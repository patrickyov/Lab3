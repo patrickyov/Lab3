{
 "cells": [
  {
   "cell_type": "markdown",
   "metadata": {
    "id": "nOGGU7gNKck0"
   },
   "source": [
    "<div>\n",
    "<img src=https://www.institutedata.com/wp-content/uploads/2019/10/iod_h_tp_primary_c.svg width=\"300\">\n",
    "</div>"
   ]
  },
  {
   "cell_type": "markdown",
   "metadata": {
    "id": "_D_idRWZKck4"
   },
   "source": [
    "# Lab 3.2.2\n",
    "# *Mining Social Media on Reddit*"
   ]
  },
  {
   "cell_type": "markdown",
   "metadata": {
    "id": "atJ1XMr3Kck7"
   },
   "source": [
    "## The Reddit API and the PRAW Package"
   ]
  },
  {
   "cell_type": "markdown",
   "metadata": {
    "id": "aJ9o1EfAKck-"
   },
   "source": [
    "The Reddit API is rich and complex, with many endpoints (https://www.reddit.com/dev/api/). It includes methods for navigating its collections, which include various kinds of media as well as comments. Fortunately, the Python library PRAW reduces much of this complexity.\n",
    "\n",
    "Reddit requires developers to create and authenticate an app before they can use the API, but the process is much less onerous than some, and does not have waiting period for approval of new developers."
   ]
  },
  {
   "cell_type": "markdown",
   "metadata": {
    "id": "egz9IUhlKclB"
   },
   "source": [
    "### 1. Create a Reddit App\n",
    "\n",
    "Go to https://www.reddit.com/prefs/apps and click \"create an app\".\n",
    "\n",
    "Enter the following in the form:\n",
    "\n",
    "- a name for your app\n",
    "- select \"script\" radio button\n",
    "- a description\n",
    "- a redirect URI\n",
    "\n",
    "(Nb. For pulling data into a data science experiment, a local port can be used for the Redirect URI; try http://127.0.0.1:1410)\n",
    "\n",
    "\n",
    "- click \"create app\"\n",
    "- from the form that displays, copy the following to a local text file (or to this notebook):\n",
    "\n",
    "  - name (the name you gave to your app)\n",
    "  - redirect URI\n",
    "  - personal use script (this is your OAuth 2 Client ID)\n",
    "  - secret (this is your OAuth 2 Secret)"
   ]
  },
  {
   "cell_type": "markdown",
   "metadata": {
    "id": "LF9V-LJ2KclE"
   },
   "source": [
    "### 2. Register for API Access\n",
    "\n",
    "- follow the link at https://www.reddit.com/wiki/api and read the terms of use for Reddit API access\n",
    "- fill in the form fields at the bottom\n",
    "  - make sure to enter your new OAuth Client ID where indicated\n",
    "  - your use case could be something like \"Training in API usage for data science projects\"\n",
    "  - your platform could be something like \"Jupyter Notebooks / Python\"\n",
    "  \n",
    "- click \"SUBMIT\"\n",
    "\n",
    "- when asked for User-Agent, enter something that fits this pattern:\n",
    "  `your_os-python:your_reddit_appname:v1.0 (by /u/your_reddit_username)`"
   ]
  },
  {
   "cell_type": "markdown",
   "metadata": {
    "id": "JIsv8YAMKclG"
   },
   "source": [
    "### 3. Load Python Libraries"
   ]
  },
  {
   "cell_type": "code",
   "execution_count": 1,
   "metadata": {
    "colab": {
     "base_uri": "https://localhost:8080/"
    },
    "executionInfo": {
     "elapsed": 4231,
     "status": "ok",
     "timestamp": 1685516919188,
     "user": {
      "displayName": "Maheshkumar Paik",
      "userId": "02349378107593826691"
     },
     "user_tz": -480
    },
    "id": "U3ZVHsiYoubq",
    "outputId": "ab731409-5046-47f5-aeed-c7d5a5b8f4bb"
   },
   "outputs": [
    {
     "name": "stdout",
     "output_type": "stream",
     "text": [
      "Requirement already satisfied: praw in c:\\users\\patri\\anaconda3\\envs\\cohort2\\lib\\site-packages (7.8.1)\n",
      "Requirement already satisfied: prawcore<3,>=2.4 in c:\\users\\patri\\anaconda3\\envs\\cohort2\\lib\\site-packages (from praw) (2.4.0)\n",
      "Requirement already satisfied: update_checker>=0.18 in c:\\users\\patri\\anaconda3\\envs\\cohort2\\lib\\site-packages (from praw) (0.18.0)\n",
      "Requirement already satisfied: websocket-client>=0.54.0 in c:\\users\\patri\\anaconda3\\envs\\cohort2\\lib\\site-packages (from praw) (1.8.0)\n",
      "Requirement already satisfied: requests<3.0,>=2.6.0 in c:\\users\\patri\\anaconda3\\envs\\cohort2\\lib\\site-packages (from prawcore<3,>=2.4->praw) (2.32.3)\n",
      "Requirement already satisfied: charset-normalizer<4,>=2 in c:\\users\\patri\\anaconda3\\envs\\cohort2\\lib\\site-packages (from requests<3.0,>=2.6.0->prawcore<3,>=2.4->praw) (3.3.2)\n",
      "Requirement already satisfied: idna<4,>=2.5 in c:\\users\\patri\\anaconda3\\envs\\cohort2\\lib\\site-packages (from requests<3.0,>=2.6.0->prawcore<3,>=2.4->praw) (3.7)\n",
      "Requirement already satisfied: urllib3<3,>=1.21.1 in c:\\users\\patri\\anaconda3\\envs\\cohort2\\lib\\site-packages (from requests<3.0,>=2.6.0->prawcore<3,>=2.4->praw) (2.3.0)\n",
      "Requirement already satisfied: certifi>=2017.4.17 in c:\\users\\patri\\anaconda3\\envs\\cohort2\\lib\\site-packages (from requests<3.0,>=2.6.0->prawcore<3,>=2.4->praw) (2025.1.31)\n"
     ]
    }
   ],
   "source": [
    "!pip install praw"
   ]
  },
  {
   "cell_type": "code",
   "execution_count": 1,
   "metadata": {
    "id": "xqi2BT66KclI"
   },
   "outputs": [],
   "source": [
    "import praw\n",
    "import requests\n",
    "import json\n",
    "import pprint\n",
    "from datetime import datetime, date, time"
   ]
  },
  {
   "cell_type": "markdown",
   "metadata": {
    "id": "wwXaO9GPKclP"
   },
   "source": [
    "### 4. Authenticate from your Python script"
   ]
  },
  {
   "cell_type": "markdown",
   "metadata": {
    "id": "ZF5oh54RKclR"
   },
   "source": [
    "You could assign your authentication details explicitly, as follows:"
   ]
  },
  {
   "cell_type": "code",
   "execution_count": 3,
   "metadata": {
    "id": "qH2-X9juKclS"
   },
   "outputs": [],
   "source": [
    "my_user_agent = 'Removed for security reason'   # your user Agent string goes in here\n",
    "my_client_id = 'Removed for security reason'   # your Client ID string goes in here\n",
    "my_client_secret = 'Removed for security reason'   # your Secret string goes in here"
   ]
  },
  {
   "cell_type": "markdown",
   "metadata": {
    "id": "1TmzPxHIKclX"
   },
   "source": [
    "A better way would be to store these details externally, so they are not displayed in the notebook:\n",
    "\n",
    "- create a file called \"auth_reddit.json\" in your \"notebooks\" directory, and save your credentials there in JSON format:\n",
    "\n",
    "`{   \"my_client_id\": \"your Client ID string goes in here\",` <br>\n",
    "&nbsp;&nbsp;&nbsp;&nbsp;&nbsp;&nbsp;&nbsp;&nbsp;` \"my_client_secret\": \"your Secret string goes in here\",` <br>\n",
    "&nbsp;&nbsp;&nbsp;&nbsp;&nbsp;&nbsp;&nbsp;&nbsp;`\"my_user_agent\": \"your user Agent string goes in here\"` <br>\n",
    "`}`\n",
    "\n",
    "Use the following code to load the credentials:  "
   ]
  },
  {
   "cell_type": "code",
   "execution_count": 4,
   "metadata": {
    "colab": {
     "base_uri": "https://localhost:8080/",
     "height": 35
    },
    "executionInfo": {
     "elapsed": 324,
     "status": "ok",
     "timestamp": 1685517832027,
     "user": {
      "displayName": "Maheshkumar Paik",
      "userId": "02349378107593826691"
     },
     "user_tz": -480
    },
    "id": "mFbFWGnVKclY",
    "outputId": "97c00516-ffaa-4ea3-a62f-943f12278dcf"
   },
   "outputs": [
    {
     "data": {
      "text/plain": [
       "'C:\\\\Users\\\\patri\\\\OneDrive\\\\UTS and personal doc 2022\\\\Documents\\\\Person Docs\\\\Data science program\\\\Labs 3'"
      ]
     },
     "execution_count": 4,
     "metadata": {},
     "output_type": "execute_result"
    }
   ],
   "source": [
    "pwd()  # make sure your working directory is where the file is"
   ]
  },
  {
   "cell_type": "code",
   "execution_count": null,
   "metadata": {},
   "outputs": [],
   "source": [
    "path_auth = 'C:/Users/patri/OneDrive/UTS and personal doc 2022/Documents/Person Docs/Data science program/Labs 3/auth_reddit.json'\n",
    "auth = json.loads(open(path_auth).read())\n",
    "pp = pprint.PrettyPrinter(indent=4)\n",
    "# For debugging only:\n",
    "\n",
    "pp.pprint(auth)\n"
   ]
  },
  {
   "cell_type": "code",
   "execution_count": 8,
   "metadata": {
    "id": "IyPlUZ-wtRrS"
   },
   "outputs": [],
   "source": [
    "my_user_agent = auth['my_user_agent']\n",
    "my_client_id = auth['my_client_id']\n",
    "my_client_secret = auth['my_client_secret']"
   ]
  },
  {
   "cell_type": "markdown",
   "metadata": {
    "id": "lVKFy9rZKclf"
   },
   "source": [
    "Security considerations:\n",
    "- this method only keeps your credentials invisible as long as nobody else gets access to this notebook file\n",
    "- if you wanted another user to have access to the executable notebook without divulging your credentials you should set up an OAuth 2.0 workflow to let them obtain and apply their own API tokens when using your app\n",
    "- if you just want to share your analyses, you could use a separate script (which you don't share) to fetch the data and save it locally, then use a second notebook (with no API access) to load and analyse the locally stored data"
   ]
  },
  {
   "cell_type": "markdown",
   "metadata": {
    "id": "fgHqt72rKclg"
   },
   "source": [
    "### 5. Exploring the API"
   ]
  },
  {
   "cell_type": "markdown",
   "metadata": {
    "id": "ByEQS6QsKclh"
   },
   "source": [
    "Here is how to connect to Reddit with read-only access:"
   ]
  },
  {
   "cell_type": "code",
   "execution_count": 9,
   "metadata": {
    "colab": {
     "base_uri": "https://localhost:8080/"
    },
    "executionInfo": {
     "elapsed": 392,
     "status": "ok",
     "timestamp": 1685518185231,
     "user": {
      "displayName": "Maheshkumar Paik",
      "userId": "02349378107593826691"
     },
     "user_tz": -480
    },
    "id": "8hkZJlcJKcli",
    "outputId": "8e736632-b9cc-4ddd-808c-9fa125dada0f"
   },
   "outputs": [
    {
     "name": "stdout",
     "output_type": "stream",
     "text": [
      "Read-only = True\n"
     ]
    }
   ],
   "source": [
    "reddit = praw.Reddit(client_id = my_client_id,\n",
    "                     client_secret = my_client_secret,\n",
    "                     user_agent = my_user_agent)\n",
    "\n",
    "print('Read-only = ' + str(reddit.read_only))  # Output: True"
   ]
  },
  {
   "cell_type": "markdown",
   "metadata": {
    "id": "slGz0lS5Kclk"
   },
   "source": [
    "In the next cell, put the cursor after the '.' and hit the [tab] key to see the available members and methods in the response object:"
   ]
  },
  {
   "cell_type": "code",
   "execution_count": null,
   "metadata": {},
   "outputs": [],
   "source": [
    "reddit."
   ]
  },
  {
   "cell_type": "code",
   "execution_count": 11,
   "metadata": {
    "id": "poGsr4X9tv42"
   },
   "outputs": [],
   "source": [
    "subreddit_name = 'malaysia'\n",
    "subreddit = reddit.subreddit(subreddit_name)"
   ]
  },
  {
   "cell_type": "code",
   "execution_count": 13,
   "metadata": {
    "colab": {
     "base_uri": "https://localhost:8080/"
    },
    "executionInfo": {
     "elapsed": 96527,
     "status": "ok",
     "timestamp": 1685518357553,
     "user": {
      "displayName": "Maheshkumar Paik",
      "userId": "02349378107593826691"
     },
     "user_tz": -480
    },
    "id": "_iuNlRadtx9T",
    "outputId": "deee9289-d1f9-4811-eb8e-80db3438e8f1"
   },
   "outputs": [],
   "source": [
    "comments = []\n",
    "for comment in subreddit.comments(limit=1000):\n",
    "    comments.append(comment)"
   ]
  },
  {
   "cell_type": "code",
   "execution_count": 14,
   "metadata": {
    "colab": {
     "base_uri": "https://localhost:8080/"
    },
    "executionInfo": {
     "elapsed": 7,
     "status": "ok",
     "timestamp": 1685521538900,
     "user": {
      "displayName": "Maheshkumar Paik",
      "userId": "02349378107593826691"
     },
     "user_tz": -480
    },
    "id": "6MvyYewEKcll",
    "outputId": "3c40f831-334b-4f57-bd1b-d229134ae7f8"
   },
   "outputs": [
    {
     "data": {
      "text/plain": [
       "Subreddit(display_name='malaysia')"
      ]
     },
     "execution_count": 14,
     "metadata": {},
     "output_type": "execute_result"
    }
   ],
   "source": [
    "reddit.subreddit(subreddit_name)"
   ]
  },
  {
   "cell_type": "markdown",
   "metadata": {
    "id": "AKfXBu7yKcln"
   },
   "source": [
    "Consult the PRAW and Reddit API documentation. Print a few of the response members below:"
   ]
  },
  {
   "cell_type": "code",
   "execution_count": 16,
   "metadata": {
    "id": "31Njl99lKcln"
   },
   "outputs": [
    {
     "name": "stdout",
     "output_type": "stream",
     "text": [
      "Title      : KL Board Game Night Meetup - Friday 25 July 7.30pm, Vivae Board Games Cafe\n",
      "Author     : Yugie\n",
      "Score      : 17\n",
      "URL        : https://www.reddit.com/r/malaysia/comments/1m61e25/kl_board_game_night_meetup_friday_25_july_730pm/\n",
      "Subreddit  : malaysia\n",
      "Created    : 1753148564.0\n",
      "------------------------------------------------------------\n",
      "Title      : /r/Malaysia daily random discussion and quick questions thread for 24 July 2025\n",
      "Author     : AutoModerator\n",
      "Score      : 0\n",
      "URL        : https://www.reddit.com/r/malaysia/comments/1m7jj6d/rmalaysia_daily_random_discussion_and_quick/\n",
      "Subreddit  : malaysia\n",
      "Created    : 1753300838.0\n",
      "------------------------------------------------------------\n",
      "Title      : M40s and T20s of r/malaysia..\n",
      "Author     : abdulsamri89\n",
      "Score      : 402\n",
      "URL        : https://i.redd.it/6erabazoeref1.png\n",
      "Subreddit  : malaysia\n",
      "Created    : 1753335524.0\n",
      "------------------------------------------------------------\n",
      "Title      : PSA: Dont buy from a Shopee seller without a physical store or known chain if possible\n",
      "Author     : ChampionshipSome2797\n",
      "Score      : 127\n",
      "URL        : https://www.reddit.com/gallery/1m7xgkt\n",
      "Subreddit  : malaysia\n",
      "Created    : 1753340374.0\n",
      "------------------------------------------------------------\n",
      "Title      : PDRM To Investigate After Taiwanese Tourist Claims Cops Intimidated Her & Demanded RM10K\n",
      "Author     : yukittyred\n",
      "Score      : 115\n",
      "URL        : https://says.com/my/news/pdrm-investigate-taiwanese-tourist-claims-cops-intimidated-herdemanded-rm10000\n",
      "Subreddit  : malaysia\n",
      "Created    : 1753331028.0\n",
      "------------------------------------------------------------\n",
      "Title      : Netflix EU is releasing a series about a Malaysian pirate named Sandokan, featuring Chuck Bass (Ed Westwick) as James Brooke\n",
      "Author     : isuklauss\n",
      "Score      : 112\n",
      "URL        : https://www.reddit.com/gallery/1m7ttyo\n",
      "Subreddit  : malaysia\n",
      "Created    : 1753328009.0\n",
      "------------------------------------------------------------\n",
      "Title      : Zahid Hamidi Urges M’sians Working Abroad to Come Home & Serve Their Country, Despite Lower Salary\n",
      "Author     : Anxious-Debate5033\n",
      "Score      : 64\n",
      "URL        : https://worldofbuzz.com/zahid-hamidi-urges-msians-working-abroad-to-come-home-serve-their-country-despite-lower-salary/\n",
      "Subreddit  : malaysia\n",
      "Created    : 1753332799.0\n",
      "------------------------------------------------------------\n",
      "Title      : PM shrugs off #TurunAnwar rally, says RM100 aid matters to those who need it\n",
      "Author     : Bonjourfamouioui\n",
      "Score      : 83\n",
      "URL        : https://www.malaymail.com/news/malaysia/2025/07/24/pm-shrugs-off-turunanwar-rally-says-rm100-aid-matters-to-those-who-need-it/184972\n",
      "Subreddit  : malaysia\n",
      "Created    : 1753323120.0\n",
      "------------------------------------------------------------\n",
      "Title      : This video was posted on PMX official account before yesterday’s announcement\n",
      "Author     : UsernameGenerik\n",
      "Score      : 51\n",
      "URL        : https://v.redd.it/si7xvcv9yqef1\n",
      "Subreddit  : malaysia\n",
      "Created    : 1753330010.0\n",
      "------------------------------------------------------------\n",
      "Title      : Why 1MDB fugitive Jho Low lives 'freely' in China with fake Aussie passport | The World | ABC NEWS\n",
      "Author     : gozieson\n",
      "Score      : 78\n",
      "URL        : https://youtu.be/h0dIRa6QDes?si=9UCfA_KpbP8MZeSq\n",
      "Subreddit  : malaysia\n",
      "Created    : 1753321591.0\n",
      "------------------------------------------------------------\n"
     ]
    }
   ],
   "source": [
    "top_posts = subreddit.hot(limit=10)\n",
    "\n",
    "# Print response members\n",
    "for post in top_posts:\n",
    "    print(f\"Title      : {post.title}\")\n",
    "    print(f\"Author     : {post.author}\")\n",
    "    print(f\"Score      : {post.score}\")\n",
    "    print(f\"URL        : {post.url}\")\n",
    "    print(f\"Subreddit  : {post.subreddit}\")\n",
    "    print(f\"Created    : {post.created_utc}\")\n",
    "    print(\"-\" * 60)"
   ]
  },
  {
   "cell_type": "markdown",
   "metadata": {
    "id": "5L10cuKfKclp"
   },
   "source": [
    "Content in Reddit is grouped by topics called \"subreddits\". Content, called \"submissions\", is fetched by calling the `subreddit` method of the connection object (which is our `reddit` variable) with an argument that matches an actual topic.\n",
    "\n",
    "We also need to append a further method call to a \"subinstance\", such as one of the following:\n",
    "\n",
    "- controversial\n",
    "- gilded\n",
    "- hot\n",
    "- new\n",
    "- rising\n",
    "- top\n",
    "\n",
    "One of the submission objects members is `title`. Fetch and print 10 submission titles from the 'learnpython' subreddit using one of the subinstances above:"
   ]
  },
  {
   "cell_type": "code",
   "execution_count": 17,
   "metadata": {
    "colab": {
     "base_uri": "https://localhost:8080/"
    },
    "executionInfo": {
     "elapsed": 433,
     "status": "ok",
     "timestamp": 1685521546523,
     "user": {
      "displayName": "Maheshkumar Paik",
      "userId": "02349378107593826691"
     },
     "user_tz": -480
    },
    "id": "2W1iCDE9Kclp",
    "outputId": "1af1e406-d056-4cf6-da9c-e80705981b37"
   },
   "outputs": [
    {
     "name": "stdout",
     "output_type": "stream",
     "text": [
      "Ask Anything Monday - Weekly Thread\n",
      "Just my first usable project\n",
      "uv run ModuleNotFoundError despite pandas being installed in .venv (Windows)\n",
      "MBA Student New to Python – Need Guidance for Using It in Finance\n",
      "% works differently on negative negative numbers in python\n",
      "Humble suggestion:  Please fix or otherwise resolve a non-working link in this subreddit's wiki\n",
      "Want to learn python, need advice\n",
      "High Level Python Programmer in 2 years\n",
      "Bulk link tracking\n",
      "Making sure i understand how a \"for\" statement works\n"
     ]
    }
   ],
   "source": [
    "for submission in reddit.subreddit('learnpython').hot(limit=10):\n",
    "    print(submission.title)"
   ]
  },
  {
   "cell_type": "markdown",
   "metadata": {
    "id": "00coF0YJKclr"
   },
   "source": [
    "Now retrieve 10 authors:"
   ]
  },
  {
   "cell_type": "code",
   "execution_count": 18,
   "metadata": {
    "colab": {
     "base_uri": "https://localhost:8080/"
    },
    "executionInfo": {
     "elapsed": 7086,
     "status": "ok",
     "timestamp": 1685521557229,
     "user": {
      "displayName": "Maheshkumar Paik",
      "userId": "02349378107593826691"
     },
     "user_tz": -480
    },
    "id": "U1vTByCGKclr",
    "outputId": "836a8bf7-dbaa-45f2-ae11-559bee7c2744"
   },
   "outputs": [
    {
     "name": "stdout",
     "output_type": "stream",
     "text": [
      "AutoModerator\n",
      "LiMe2116\n",
      "Fun_Signature_9812\n",
      "Ok_Royal4131\n",
      "o_genie\n",
      "JonBarPoint\n",
      "MadFaceInvasion\n",
      "therottingCinePhile\n",
      "uniqueusername42O\n",
      "AlmightyAntwan12\n"
     ]
    }
   ],
   "source": [
    "for submission in reddit.subreddit('learnpython').hot(limit=10):\n",
    "    print(submission.author)"
   ]
  },
  {
   "cell_type": "markdown",
   "metadata": {
    "id": "dOFMMl6AKclt"
   },
   "source": [
    "Note that we obtained the titles and authors from separate API calls. Can we expect these to correspond to the same submissions? If not, how could we gurantee that they do?"
   ]
  },
  {
   "cell_type": "code",
   "execution_count": 24,
   "metadata": {
    "id": "eIPVr-WaKclu"
   },
   "outputs": [
    {
     "name": "stdout",
     "output_type": "stream",
     "text": [
      "Author: AutoModerator | Title: Ask Anything Monday - Weekly Thread\n",
      "Author: LiMe2116 | Title: Just my first usable project\n",
      "Author: o_genie | Title: % works differently on negative negative numbers in python\n",
      "Author: Fun_Signature_9812 | Title: uv run ModuleNotFoundError despite pandas being installed in .venv (Windows)\n",
      "Author: MadFaceInvasion | Title: Want to learn python, need advice\n",
      "Author: Ok_Royal4131 | Title: MBA Student New to Python – Need Guidance for Using It in Finance\n",
      "Author: JonBarPoint | Title: Humble suggestion:  Please fix or otherwise resolve a non-working link in this subreddit's wiki\n",
      "Author: therottingCinePhile | Title: High Level Python Programmer in 2 years\n",
      "Author: uniqueusername42O | Title: Bulk link tracking\n",
      "Author: AlmightyAntwan12 | Title: Making sure i understand how a \"for\" statement works\n"
     ]
    }
   ],
   "source": [
    "submissions = reddit.subreddit('learnpython').hot(limit=10)\n",
    "for submission in submissions:\n",
    "    print(\"Author: {} | Title: {}\".format(submission.author, submission.title))"
   ]
  },
  {
   "cell_type": "markdown",
   "metadata": {
    "id": "IjIJ6ojAKclv"
   },
   "source": [
    "Why doesn't the next cell produce output?"
   ]
  },
  {
   "cell_type": "code",
   "execution_count": 25,
   "metadata": {
    "colab": {
     "base_uri": "https://localhost:8080/",
     "height": 183
    },
    "executionInfo": {
     "elapsed": 6,
     "status": "error",
     "timestamp": 1685521616248,
     "user": {
      "displayName": "Maheshkumar Paik",
      "userId": "02349378107593826691"
     },
     "user_tz": -480
    },
    "id": "ifxjcJ2aKclw",
    "outputId": "7e555d2c-0489-4eaa-888d-66fe598c1bf9"
   },
   "outputs": [],
   "source": [
    "for submission in submissions:\n",
    "    print(submission.comments)"
   ]
  },
  {
   "cell_type": "markdown",
   "metadata": {
    "id": "kPNVNapBKcly"
   },
   "source": [
    "Answer: it doesn’t print the actual comments. That’s because submission.comments is not a simple list — it’s a special PRAW object (CommentForest) that needs to be explicitly loaded or traversed."
   ]
  },
  {
   "cell_type": "code",
   "execution_count": 26,
   "metadata": {},
   "outputs": [
    {
     "data": {
      "text/plain": [
       "<praw.models.listing.generator.ListingGenerator at 0x1e1e88d29d0>"
      ]
     },
     "execution_count": 26,
     "metadata": {},
     "output_type": "execute_result"
    }
   ],
   "source": [
    "# The API is lazy, and submissions is a generator -- not a data structure:\n",
    "submissions\n",
    "# it must be refreshed in the same cell that invokes its output."
   ]
  },
  {
   "cell_type": "markdown",
   "metadata": {
    "id": "4aZ2OSd_Kclz"
   },
   "source": [
    "Print two comments associated with each of these submissions:"
   ]
  },
  {
   "cell_type": "code",
   "execution_count": 27,
   "metadata": {
    "colab": {
     "base_uri": "https://localhost:8080/"
    },
    "executionInfo": {
     "elapsed": 81419,
     "status": "ok",
     "timestamp": 1685521718870,
     "user": {
      "displayName": "Maheshkumar Paik",
      "userId": "02349378107593826691"
     },
     "user_tz": -480
    },
    "id": "RO4ppDPJKcl0",
    "outputId": "523482f9-0c62-42c2-d039-f0b34962ba26"
   },
   "outputs": [
    {
     "name": "stdout",
     "output_type": "stream",
     "text": [
      "As someone learning, the most important thing to focus should be what have you learnt from the project.\n",
      "\n",
      "what were the errors or issues you faced and how did you overcome them ?\n",
      "\n",
      "those are more important than the project final version.\n",
      "I would say there were not that much errors except for sqlite3. I just completed a class on oop so I was able to go through with that easily. Also I had learned sql a few years back and I wanted to try using it again\n",
      "In JavaScript, `%` is called the remainder operator, and in Python it is called the modulo operation, but this doesn't really change the way in which they work. They just have different conventions as to how to handle negative numbers. However, mathematically they are equivalent. \n",
      "\n",
      "Mathematically, the result of modulo division is actually an equivalence class, not a single value. The value shown as result of this operation in different programming languages is simply a matter of convention. In maths, it's usually the smallest nonnegative integer that is chosen to represent the equivalence class. Different programming languages have different conventions. In Python, the result keeps the sign of the second operand, but in others, such as JavaScript, it keeps the result of the first operand.\n",
      "\n",
      "Consider `-13 % 5`. In python, the result is 2, but in JavaScript, the result is -3. Notice how the two values differ by an integer multiple of 5 (the divisor). This means they belong to the same equivalence class, and are mathematically equivalent. \n",
      "\n",
      "Do note that Gemini is incorrect in saying the Python way is mathematically correct; as I stated before, both definitions are mathematically equivalent. However, even Python doesn't follow the general mathematical convention. `13 % -5` in Python is -2, not 3, as would be the case in mathematics. They are still equivalent though.\n",
      "\n",
      "It might help to think of the result of the operation as a set of numbers rather than a single value. Then, `-13 % 5 = {x | x = 2 + 5n}` where n is any integer. Simply put, it is the set of all integers that are equal to 2 plus an integer multiple of 5. This set would include (but is not limited to, as it is infinitely large) `{-18, -13, -8, -3, 2, 7, 12}`. Notice that the results of both the JavaScript definition and the Python definition are present in this set.\n",
      "\n",
      "If you're curious about the maths behind this, take a look at modular arithmetic and congruence. It's also helpful to look at the documentation of a programming language when you find things like this that don't initially make sense; the conventions are almost always outlined there.\n",
      "IMO, there is no mathematically correct way to handle something that is just a choice. Do you want to allow negative remainders or not?\n",
      "\n",
      "[https://stackoverflow.com/questions/3883004/how-does-the-modulo-operator-work-on-negative-numbers-in-python](https://stackoverflow.com/questions/3883004/how-does-the-modulo-operator-work-on-negative-numbers-in-python)\n",
      "\n",
      "It's like saying what is the right way to express 370 degrees? Is it 370 or just 10 degrees? Does the larger angle actually represent a rotation or did it just come out of an arctangent function with a delta added on?\n",
      "Because you are running \\`uv run\\` from a different directory to your virtual environment, it doesn't use the virtual environment.\n",
      "\n",
      "Either, you can create your virtual environment in the root directory of the project:\n",
      "\n",
      "    DNS-Resolver/\n",
      "    ├── .venv/   \n",
      "    └── blocklist/\n",
      "        ├── __init__.py\n",
      "        ├── main.py\n",
      "        ├── blocklists.csv\n",
      "        ├── blocklist_manager.py\n",
      "        ├── pyproject.toml\n",
      "        └── modules/\n",
      "            ├── __init__.py\n",
      "            └── file_downloader.py\n",
      "\n",
      "Or, uv will use the active virtual environment if one is not found in the current directory.\n",
      "\n",
      "    . ./blocklist/.venv/Scripts/activate\n",
      "    uv run python -m blocklist.main\n",
      "Cannot reproduce the issue.\n",
      "\n",
      "# Project structure\n",
      "\n",
      "    temp/\n",
      "    └── blocklist/\n",
      "        ├── .venv/\n",
      "        ├── __init__.py\n",
      "        ├── blocklist_manager.py\n",
      "        ├── main.py\n",
      "        └── pyproject.toml\n",
      "\n",
      "# main.py\n",
      "\n",
      "    from blocklist import blocklist_manager\n",
      "\n",
      "    def run_application():\n",
      "        print(\"Hello from blocklist!\")\n",
      "\n",
      "    if __name__ == \"__main__\":\n",
      "        run_application()\n",
      "\n",
      "# blocklist_manager.py\n",
      "\n",
      "    import pandas as pd\n",
      "    print(pd.__version__)\n",
      "\n",
      "When I run the following command inside `temp` folder:\n",
      "\n",
      "    uv run python -m blocklist.main\n",
      "\n",
      "I get following in the console\n",
      "\n",
      "    2.3.1\n",
      "    Hello from blocklist!\n",
      "I too. I worked in an IBM shop.\n",
      "\n",
      "Python is easy to learn. You only need to watch one video course to learn Python syntax.\n",
      "Try freecodecamp\n",
      "Is there a specific question you have? “Using it in finance” is a pretty broad ask. First things first you’ll probably want to learn syntax. This sub’s wiki (https://www.reddit.com/r/learnpython/s/1rLpqDwzUB) can help you find resources for that.\n",
      "You should define for yourself what you want to achieve with the program. Then you can dive into python if it is the best way to achieve it. Python is very versatile and flexible. Almost anything is possible in python bu it is not always the right tool. So define your goal, ask if python is the best way to go and if python is capable of doing the task. If so.... Happy programming 🤓\n",
      "It's a wiki ... you can do it yourself.\n",
      "why should there be any impressions ?\n",
      "\n",
      "This is not official support sub for Python. Even if it is , the whole point of FOSS or Wiki page is that source code/content can be modified.\n",
      "\n",
      "none of those answering are paid.\n",
      "\n",
      "its been this way since BBs and IRC channel days.\n",
      "\n",
      "Never trust or rely on anyone , any advice , any website , anywhere at anytime on the net.\n",
      "Depends what you define as \"master\". I would argue you can't truly master Python unless you understand its inner workings.\n",
      "\n",
      "\n",
      "For most practical purposes, you won't ever need to know it in that much detail. But you did say \"master\" and not \"advanced\". If you do intend to learn its inner workings, you'll need A LOT more foundational and background knowledge than just Python.\n",
      "\n",
      "\n",
      "I'm talking you'll need to know about computer architecture, operating systems, programming language design, data structures and algorithms, theoretical computer science, computer networking, modern processor function, etc.\n",
      "\n",
      "\n",
      "It's possible in 2 years, but you'll need to study hard.\n",
      "Since you're aiming to become a high-level Python dev in 2 years before college, you’re in a perfect spot to start from scratch and go deep over time.\n",
      "\n",
      "You already know Lua, so Python will feel super friendly. Start with the basics variables, loops, functions and slowly move to OOP, file handling, and then real-world projects like web apps or automation scripts.\n",
      "\n",
      "Keep coding daily, build stuff often, and don’t just follow tutorials try making your own mini tools or games. By the time you're in college, you'll already be way ahead. Let me know if you want a monthly breakdown or project ideas to stay on track\n",
      "If you don't control the app at sampleaddress.com, then yes that's a perfectly good way to go about things.\n"
     ]
    }
   ],
   "source": [
    "submissions = reddit.subreddit('learnpython').hot(limit=10)\n",
    "for submission in submissions:\n",
    "    top_level_comments = list(submission.comments)\n",
    "    all_comments = submission.comments.list()[:2]\n",
    "    for comment in all_comments:\n",
    "        print(comment.body)"
   ]
  },
  {
   "cell_type": "markdown",
   "metadata": {
    "id": "JvYEOesKKcl2"
   },
   "source": [
    "Referring to the API documentation, explore the submissions object and print some interesting data:"
   ]
  },
  {
   "cell_type": "code",
   "execution_count": 28,
   "metadata": {
    "id": "glEShYZbKcl3"
   },
   "outputs": [
    {
     "name": "stdout",
     "output_type": "stream",
     "text": [
      "Title           : Ask Anything Monday - Weekly Thread\n",
      "Author          : AutoModerator\n",
      "Score           : 1\n",
      "Upvote Ratio    : 0.67\n",
      "Number of Comments : 0\n",
      "Subreddit       : learnpython\n",
      "Created (UTC)   : 1753056054.0\n",
      "URL             : https://www.reddit.com/r/learnpython/comments/1m543pq/ask_anything_monday_weekly_thread/\n",
      "Is Self Post?   : True\n",
      "Post Hint       : N/A\n",
      "NSFW?           : False\n",
      "Stickied?       : True\n",
      "------------------------------------------------------------\n",
      "Title           : Just my first usable project\n",
      "Author          : LiMe2116\n",
      "Score           : 3\n",
      "Upvote Ratio    : 0.72\n",
      "Number of Comments : 2\n",
      "Subreddit       : learnpython\n",
      "Created (UTC)   : 1753339561.0\n",
      "URL             : https://www.reddit.com/r/learnpython/comments/1m7x8o9/just_my_first_usable_project/\n",
      "Is Self Post?   : True\n",
      "Post Hint       : self\n",
      "NSFW?           : False\n",
      "Stickied?       : False\n",
      "------------------------------------------------------------\n",
      "Title           : % works differently on negative negative numbers in python\n",
      "Author          : o_genie\n",
      "Score           : 1\n",
      "Upvote Ratio    : 0.57\n",
      "Number of Comments : 12\n",
      "Subreddit       : learnpython\n",
      "Created (UTC)   : 1753342561.0\n",
      "URL             : https://www.reddit.com/r/learnpython/comments/1m7y1le/works_differently_on_negative_negative_numbers_in/\n",
      "Is Self Post?   : True\n",
      "Post Hint       : N/A\n",
      "NSFW?           : False\n",
      "Stickied?       : False\n",
      "------------------------------------------------------------\n",
      "Title           : uv run ModuleNotFoundError despite pandas being installed in .venv (Windows)\n",
      "Author          : Fun_Signature_9812\n",
      "Score           : 3\n",
      "Upvote Ratio    : 0.81\n",
      "Number of Comments : 3\n",
      "Subreddit       : learnpython\n",
      "Created (UTC)   : 1753341058.0\n",
      "URL             : https://www.reddit.com/r/learnpython/comments/1m7xng4/uv_run_modulenotfounderror_despite_pandas_being/\n",
      "Is Self Post?   : True\n",
      "Post Hint       : N/A\n",
      "NSFW?           : False\n",
      "Stickied?       : False\n",
      "------------------------------------------------------------\n",
      "Title           : Want to learn python, need advice\n",
      "Author          : MadFaceInvasion\n",
      "Score           : 1\n",
      "Upvote Ratio    : 0.57\n",
      "Number of Comments : 17\n",
      "Subreddit       : learnpython\n",
      "Created (UTC)   : 1753338810.0\n",
      "URL             : https://www.reddit.com/r/learnpython/comments/1m7x162/want_to_learn_python_need_advice/\n",
      "Is Self Post?   : True\n",
      "Post Hint       : N/A\n",
      "NSFW?           : False\n",
      "Stickied?       : False\n",
      "------------------------------------------------------------\n"
     ]
    }
   ],
   "source": [
    "for submission in reddit.subreddit('learnpython').hot(limit=5):\n",
    "    print(f\"Title           : {submission.title}\")\n",
    "    print(f\"Author          : {submission.author}\")\n",
    "    print(f\"Score           : {submission.score}\")\n",
    "    print(f\"Upvote Ratio    : {submission.upvote_ratio}\")\n",
    "    print(f\"Number of Comments : {submission.num_comments}\")\n",
    "    print(f\"Subreddit       : {submission.subreddit}\")\n",
    "    print(f\"Created (UTC)   : {submission.created_utc}\")\n",
    "    print(f\"URL             : {submission.url}\")\n",
    "    print(f\"Is Self Post?   : {submission.is_self}\")\n",
    "    print(f\"Post Hint       : {submission.post_hint if hasattr(submission, 'post_hint') else 'N/A'}\")\n",
    "    print(f\"NSFW?           : {submission.over_18}\")\n",
    "    print(f\"Stickied?       : {submission.stickied}\")\n",
    "    print(\"-\" * 60)"
   ]
  },
  {
   "cell_type": "markdown",
   "metadata": {
    "id": "Khno5kpWKcl5"
   },
   "source": [
    "#### Posting to Reddit"
   ]
  },
  {
   "cell_type": "markdown",
   "metadata": {
    "id": "zjnyN1OfKcl6"
   },
   "source": [
    "To be able to post to your Reddit account (i.e. contribute submissions), you need to connect to the API with read/write privilege. This requires an *authorised instance*, which is obtained by including your Reddit user name and password in the connection request:"
   ]
  },
  {
   "cell_type": "code",
   "execution_count": 29,
   "metadata": {
    "colab": {
     "base_uri": "https://localhost:8080/"
    },
    "executionInfo": {
     "elapsed": 12,
     "status": "ok",
     "timestamp": 1685521718870,
     "user": {
      "displayName": "Maheshkumar Paik",
      "userId": "02349378107593826691"
     },
     "user_tz": -480
    },
    "id": "ZXG7kouZKcl7",
    "outputId": "5afb108d-aab6-4bb9-af3e-8329d75b1c72"
   },
   "outputs": [
    {
     "name": "stdout",
     "output_type": "stream",
     "text": [
      "False\n"
     ]
    }
   ],
   "source": [
    "reddit = praw.Reddit(client_id='my client id',\n",
    "                     client_secret='my client secret',\n",
    "                     user_agent='my user agent',\n",
    "                     username='my username',\n",
    "                     password='my password')\n",
    "print(reddit.read_only)  # Output: False"
   ]
  },
  {
   "cell_type": "markdown",
   "metadata": {
    "id": "nEjrsF9vKcl-"
   },
   "source": [
    "You could hide these last two credentials by adding them to your JSON file and then reading all five values at once."
   ]
  },
  {
   "cell_type": "code",
   "execution_count": null,
   "metadata": {
    "id": "BVcbR0K1Kcl_"
   },
   "outputs": [],
   "source": []
  },
  {
   "cell_type": "markdown",
   "metadata": {
    "id": "WqBG4xS5Kk3X"
   },
   "source": [
    ">\n",
    ">\n"
   ]
  },
  {
   "cell_type": "markdown",
   "metadata": {
    "id": "EfPDz2gEKnRn"
   },
   "source": [
    ">\n",
    ">\n"
   ]
  },
  {
   "cell_type": "markdown",
   "metadata": {
    "id": "5Uo-KnYhKoRA"
   },
   "source": [
    "\n",
    "\n",
    "---\n",
    "\n",
    "\n",
    "\n",
    "---\n",
    "\n",
    "\n",
    "\n",
    "> > > > > > > > > © 2025 Institute of Data\n",
    "\n",
    "\n",
    "---\n",
    "\n",
    "\n",
    "\n",
    "---\n",
    "\n",
    "\n",
    "\n"
   ]
  }
 ],
 "metadata": {
  "colab": {
   "provenance": []
  },
  "kernelspec": {
   "display_name": "Python 3 (ipykernel)",
   "language": "python",
   "name": "python3"
  },
  "language_info": {
   "codemirror_mode": {
    "name": "ipython",
    "version": 3
   },
   "file_extension": ".py",
   "mimetype": "text/x-python",
   "name": "python",
   "nbconvert_exporter": "python",
   "pygments_lexer": "ipython3",
   "version": "3.11.11"
  }
 },
 "nbformat": 4,
 "nbformat_minor": 4
}
